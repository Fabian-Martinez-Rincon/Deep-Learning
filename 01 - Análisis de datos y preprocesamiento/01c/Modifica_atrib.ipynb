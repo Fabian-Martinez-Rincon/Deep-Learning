{
 "cells": [
  {
   "cell_type": "code",
   "execution_count": 1,
   "id": "884c9e72",
   "metadata": {},
   "outputs": [
    {
     "data": {
      "text/html": [
       "<div>\n",
       "<style scoped>\n",
       "    .dataframe tbody tr th:only-of-type {\n",
       "        vertical-align: middle;\n",
       "    }\n",
       "\n",
       "    .dataframe tbody tr th {\n",
       "        vertical-align: top;\n",
       "    }\n",
       "\n",
       "    .dataframe thead th {\n",
       "        text-align: right;\n",
       "    }\n",
       "</style>\n",
       "<table border=\"1\" class=\"dataframe\">\n",
       "  <thead>\n",
       "    <tr style=\"text-align: right;\">\n",
       "      <th></th>\n",
       "      <th>Year</th>\n",
       "      <th>Age</th>\n",
       "      <th>Actor</th>\n",
       "      <th>Sex</th>\n",
       "      <th>Film</th>\n",
       "      <th>nominations</th>\n",
       "      <th>rating</th>\n",
       "      <th>duration</th>\n",
       "      <th>genre1</th>\n",
       "      <th>genre2</th>\n",
       "      <th>release</th>\n",
       "      <th>synopsis</th>\n",
       "    </tr>\n",
       "  </thead>\n",
       "  <tbody>\n",
       "    <tr>\n",
       "      <th>0</th>\n",
       "      <td>1928</td>\n",
       "      <td>44</td>\n",
       "      <td>Emil Jannings</td>\n",
       "      <td>M</td>\n",
       "      <td>The Last Command</td>\n",
       "      <td>2.0</td>\n",
       "      <td>8.0</td>\n",
       "      <td>88</td>\n",
       "      <td>Drama</td>\n",
       "      <td>History</td>\n",
       "      <td>April</td>\n",
       "      <td>A former Imperial Russian general and cousin o...</td>\n",
       "    </tr>\n",
       "    <tr>\n",
       "      <th>1</th>\n",
       "      <td>1928</td>\n",
       "      <td>22</td>\n",
       "      <td>Laura Gainor (aka Janet Gaynor)</td>\n",
       "      <td>F</td>\n",
       "      <td>Sunrise</td>\n",
       "      <td>5.0</td>\n",
       "      <td>7.8</td>\n",
       "      <td>110</td>\n",
       "      <td>Drama</td>\n",
       "      <td>Romance</td>\n",
       "      <td>NaN</td>\n",
       "      <td>A street cleaner saves a young womans life and...</td>\n",
       "    </tr>\n",
       "    <tr>\n",
       "      <th>2</th>\n",
       "      <td>1929</td>\n",
       "      <td>37</td>\n",
       "      <td>Mary Pickford</td>\n",
       "      <td>F</td>\n",
       "      <td>Coquette</td>\n",
       "      <td>1.0</td>\n",
       "      <td>7.3</td>\n",
       "      <td>76</td>\n",
       "      <td>Drama</td>\n",
       "      <td>Romance</td>\n",
       "      <td>April</td>\n",
       "      <td>A flirtatious southern belle is compromised wi...</td>\n",
       "    </tr>\n",
       "    <tr>\n",
       "      <th>3</th>\n",
       "      <td>1929</td>\n",
       "      <td>38</td>\n",
       "      <td>Warner Baxter</td>\n",
       "      <td>M</td>\n",
       "      <td>In Old Arizona</td>\n",
       "      <td>5.0</td>\n",
       "      <td>5.8</td>\n",
       "      <td>95</td>\n",
       "      <td>Romance</td>\n",
       "      <td>Western</td>\n",
       "      <td>January</td>\n",
       "      <td>A charming happy-go-lucky bandit in old Arizon...</td>\n",
       "    </tr>\n",
       "    <tr>\n",
       "      <th>4</th>\n",
       "      <td>1930</td>\n",
       "      <td>62</td>\n",
       "      <td>George Arliss</td>\n",
       "      <td>M</td>\n",
       "      <td>Disraeli</td>\n",
       "      <td>3.0</td>\n",
       "      <td>6.5</td>\n",
       "      <td>90</td>\n",
       "      <td>Biography</td>\n",
       "      <td>Drama</td>\n",
       "      <td>November</td>\n",
       "      <td>Prime Minister of Great Britain Benjamin Disra...</td>\n",
       "    </tr>\n",
       "  </tbody>\n",
       "</table>\n",
       "</div>"
      ],
      "text/plain": [
       "   Year  Age                            Actor Sex              Film  \\\n",
       "0  1928   44                    Emil Jannings   M  The Last Command   \n",
       "1  1928   22  Laura Gainor (aka Janet Gaynor)   F           Sunrise   \n",
       "2  1929   37                    Mary Pickford   F          Coquette   \n",
       "3  1929   38                    Warner Baxter   M    In Old Arizona   \n",
       "4  1930   62                    George Arliss   M          Disraeli   \n",
       "\n",
       "   nominations  rating  duration     genre1   genre2   release  \\\n",
       "0          2.0     8.0        88      Drama  History     April   \n",
       "1          5.0     7.8       110      Drama  Romance       NaN   \n",
       "2          1.0     7.3        76      Drama  Romance     April   \n",
       "3          5.0     5.8        95    Romance  Western   January   \n",
       "4          3.0     6.5        90  Biography    Drama  November   \n",
       "\n",
       "                                            synopsis  \n",
       "0  A former Imperial Russian general and cousin o...  \n",
       "1  A street cleaner saves a young womans life and...  \n",
       "2  A flirtatious southern belle is compromised wi...  \n",
       "3  A charming happy-go-lucky bandit in old Arizon...  \n",
       "4  Prime Minister of Great Britain Benjamin Disra...  "
      ]
     },
     "execution_count": 1,
     "metadata": {},
     "output_type": "execute_result"
    }
   ],
   "source": [
    "import pandas as pd\n",
    "import numpy as np\n",
    "import matplotlib.pyplot as plt\n",
    "import chardet\n",
    "\n",
    "nomArch = '../Datos/Premios2020.csv' \n",
    "#-- detectando la codificación de caracteres usada ----\n",
    "with open(nomArch, 'rb') as f:\n",
    "    result = chardet.detect(f.read())  # or readline if the file is large\n",
    "\n",
    "df= pd.read_csv(nomArch, encoding=result['encoding'])\n",
    "df.head()"
   ]
  },
  {
   "cell_type": "markdown",
   "id": "de8056db",
   "metadata": {},
   "source": [
    "**Reducción de valores**"
   ]
  },
  {
   "cell_type": "code",
   "execution_count": 2,
   "id": "3ab3a78e",
   "metadata": {},
   "outputs": [
    {
     "data": {
      "text/plain": [
       "Drama        91\n",
       "Biography    41\n",
       "Comedy       25\n",
       "Crime        16\n",
       "Adventure     6\n",
       "Action        3\n",
       "Romance       2\n",
       "Mystery       1\n",
       "Thriller      1\n",
       "Name: genre1, dtype: int64"
      ]
     },
     "execution_count": 2,
     "metadata": {},
     "output_type": "execute_result"
    }
   ],
   "source": [
    "opciones = pd.value_counts(df['genre1'])\n",
    "opciones"
   ]
  },
  {
   "cell_type": "code",
   "execution_count": 3,
   "id": "d226c464",
   "metadata": {},
   "outputs": [
    {
     "data": {
      "text/plain": [
       "Drama        91\n",
       "Biography    41\n",
       "Comedy       25\n",
       "Crime        16\n",
       "Otra         13\n",
       "Name: genre1, dtype: int64"
      ]
     },
     "execution_count": 3,
     "metadata": {},
     "output_type": "execute_result"
    }
   ],
   "source": [
    "# Reemplazando valores\n",
    "df['genre1'] = df['genre1'].replace(['Adventure','Action', \\\n",
    "              'Romance', 'Thriller', 'Mystery'], 'Otra')\n",
    "\n",
    "# revisar cómo quedó\n",
    "opciones2 = pd.value_counts(df['genre1'])\n",
    "opciones2"
   ]
  },
  {
   "cell_type": "markdown",
   "id": "9413bcf0",
   "metadata": {},
   "source": [
    "**Completando datos faltantes**"
   ]
  },
  {
   "cell_type": "code",
   "execution_count": 4,
   "id": "a5a38afd",
   "metadata": {},
   "outputs": [
    {
     "data": {
      "text/plain": [
       "Year            0\n",
       "Age             0\n",
       "Actor           0\n",
       "Sex             0\n",
       "Film            0\n",
       "nominations     0\n",
       "rating          0\n",
       "duration        0\n",
       "genre1          0\n",
       "genre2         37\n",
       "release         4\n",
       "synopsis        0\n",
       "dtype: int64"
      ]
     },
     "execution_count": 4,
     "metadata": {},
     "output_type": "execute_result"
    }
   ],
   "source": [
    "values = {'nominations': df['nominations'].min(), 'rating': 5}\n",
    "df.fillna(value=values, inplace=True)\n",
    "df.isnull().sum()"
   ]
  },
  {
   "cell_type": "code",
   "execution_count": 5,
   "id": "ccc804f5",
   "metadata": {},
   "outputs": [
    {
     "name": "stdout",
     "output_type": "stream",
     "text": [
      "La MODA del atributo 'genre2' es  Drama\n"
     ]
    },
    {
     "data": {
      "text/plain": [
       "Year           0\n",
       "Age            0\n",
       "Actor          0\n",
       "Sex            0\n",
       "Film           0\n",
       "nominations    0\n",
       "rating         0\n",
       "duration       0\n",
       "genre1         0\n",
       "genre2         0\n",
       "release        4\n",
       "synopsis       0\n",
       "dtype: int64"
      ]
     },
     "execution_count": 5,
     "metadata": {},
     "output_type": "execute_result"
    }
   ],
   "source": [
    "modaGen = df['genre2'].mode()[0]\n",
    "\n",
    "print(\"La MODA del atributo 'genre2' es \", modaGen)\n",
    "\n",
    "df['genre2'] = df['genre2'].replace(np.nan, modaGen)\n",
    "df.isnull().sum()\n"
   ]
  },
  {
   "cell_type": "markdown",
   "id": "f024a30d",
   "metadata": {},
   "source": [
    "**Generando un nuevo atributo**"
   ]
  },
  {
   "cell_type": "code",
   "execution_count": 6,
   "id": "5ab9a083",
   "metadata": {},
   "outputs": [
    {
     "name": "stdout",
     "output_type": "stream",
     "text": [
      "Atributo largaDuracion\n",
      "NO    112\n",
      "SI     74\n",
      "Name: largaDuracion, dtype: int64\n"
     ]
    }
   ],
   "source": [
    "LD = ['NO'] * len(df)\n",
    "for i in range(len(df)):\n",
    "    if df['duration'][i] > 120:\n",
    "        LD[i] = 'SI'\n",
    "# Agregando un atributo al DataFrame\n",
    "df = df.assign( largaDuracion = LD )\n",
    "\n",
    "print('Atributo largaDuracion')\n",
    "print(pd.value_counts(df['largaDuracion']))\n"
   ]
  },
  {
   "cell_type": "code",
   "execution_count": 7,
   "id": "62e513e7",
   "metadata": {},
   "outputs": [
    {
     "data": {
      "image/png": "[encoded data removed]",
      "text/plain": [
       "<Figure size 432x288 with 1 Axes>"
      ]
     },
     "metadata": {
      "needs_background": "light"
     },
     "output_type": "display_data"
    }
   ],
   "source": [
    "plt.figure()\n",
    "plt.hist(df['largaDuracion'], bins = 10, edgecolor = 'black', \\\n",
    "         linewidth=1)\n",
    "plt.xlabel('largaDuracion')\n",
    "plt.ylabel('Frecuencia')\n",
    "plt.title('Histograma del atributo \"largaDuracion\"')\n",
    "plt.show()"
   ]
  },
  {
   "cell_type": "code",
   "execution_count": null,
   "id": "873cfa6c",
   "metadata": {},
   "outputs": [],
   "source": []
  }
 ],
 "metadata": {
  "kernelspec": {
   "display_name": "Python 3",
   "language": "python",
   "name": "python3"
  },
  "language_info": {
   "codemirror_mode": {
    "name": "ipython",
    "version": 3
   },
   "file_extension": ".py",
   "mimetype": "text/x-python",
   "name": "python",
   "nbconvert_exporter": "python",
   "pygments_lexer": "ipython3",
   "version": "3.8.8"
  }
 },
 "nbformat": 4,
 "nbformat_minor": 5
}
