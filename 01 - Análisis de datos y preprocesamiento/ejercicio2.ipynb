{
 "cells": [
  {
   "cell_type": "code",
   "execution_count": 29,
   "metadata": {},
   "outputs": [
    {
     "name": "stdout",
     "output_type": "stream",
     "text": [
      " Volume in drive C has no label.\n",
      " Volume Serial Number is 1C2B-1A37\n",
      "\n",
      " Directory of c:\\Users\\fabian\\Desktop\\Facultad FINAL BOSS\\Deep-Learning\\Practica\\Practica0\n",
      "\n",
      "20/08/2023  12:31    <DIR>          .\n",
      "20/08/2023  12:31    <DIR>          ..\n",
      "20/08/2023  12:54             7.554 ejercicio2.ipynb\n",
      "15/08/2023  23:02           278.288 Pr�ctica 0 - Introducci�n a Python.pdf\n",
      "               2 File(s)        285.842 bytes\n",
      "               2 Dir(s)  196.385.902.592 bytes free\n"
     ]
    }
   ],
   "source": [
    "!dir"
   ]
  },
  {
   "cell_type": "markdown",
   "metadata": {},
   "source": [
    "El comando `!dir` en Windows te muestra el contenido del directorio actual. En el resultado que proporcionaste, estás viendo el contenido del directorio `c:\\Users\\fabian\\Desktop\\Facultad FINAL BOSS\\Deep-Learning\\Practica\\Practica0`.\n",
    "\n",
    "Aquí hay un desglose de lo que muestra el resultado:\n",
    "\n",
    "1. **Volume in drive C has no label.**: Indica que el volumen del disco C no tiene una etiqueta asignada.\n",
    "2. **Volume Serial Number is 1C2B-1A37**: Es el número de serie del volumen del disco.\n",
    "3. **Directory of c:\\Users\\fabian\\Desktop\\Facultad FINAL BOSS\\Deep-Learning\\Practica\\Practica0**: Es la ruta del directorio que estás viendo.\n",
    "4. **...**: Indica que hay más archivos o directorios anteriores que no se muestran en este fragmento.\n",
    "5. **20/08/2023  12:37               967 ejercicio2.ipynb**: Es un archivo Jupyter Notebook llamado \"ejercicio2.ipynb\" con un tamaño de 967 bytes y fue modificado por última vez el 20 de agosto de 2023 a las 12:37.\n",
    "6. **15/08/2023  23:02           278.288 Pr�ctica 0 - Introducci�n a Python.pdf**: Es un archivo PDF (posiblemente con un nombre que contiene caracteres especiales que no se muestran correctamente) con un tamaño de 278,288 bytes y fue modificado por última vez el 15 de agosto de 2023 a las 23:02.\n",
    "7. **2 File(s)        279.255 bytes**: Indica que hay 2 archivos en total en este directorio con un tamaño combinado de 279,255 bytes.\n",
    "8. **2 Dir(s)  203.967.533.056 bytes free**: Indica que hay 2 directorios (o carpetas) en este directorio y que hay 203,967,533,056 bytes (aproximadamente 203.9 GB) de espacio libre en el disco C.\n",
    "\n",
    "¿Hay algo específico que te gustaría saber o hacer con esta información?"
   ]
  },
  {
   "cell_type": "code",
   "execution_count": 30,
   "metadata": {},
   "outputs": [
    {
     "name": "stdout",
     "output_type": "stream",
     "text": [
      "ejercicio2.ipynb\n",
      "Pr�ctica 0 - Introducci�n a Python.pdf\n"
     ]
    }
   ],
   "source": [
    "!dir /b"
   ]
  },
  {
   "cell_type": "code",
   "execution_count": 31,
   "metadata": {},
   "outputs": [
    {
     "name": "stdout",
     "output_type": "stream",
     "text": [
      "Python 3.11.4\n"
     ]
    }
   ],
   "source": [
    "!python --version"
   ]
  },
  {
   "cell_type": "code",
   "execution_count": 32,
   "metadata": {},
   "outputs": [
    {
     "name": "stdout",
     "output_type": "stream",
     "text": [
      "Name: pandas\n",
      "Version: 2.0.3\n",
      "Summary: Powerful data structures for data analysis, time series, and statistics\n",
      "Home-page: \n",
      "Author: \n",
      "Author-email: The Pandas Development Team <pandas-dev@python.org>\n",
      "License: BSD 3-Clause License\n",
      "\n",
      "Copyright (c) 2008-2011, AQR Capital Management, LLC, Lambda Foundry, Inc. and PyData Development Team\n",
      "All rights reserved.\n",
      "\n",
      "Copyright (c) 2011-2023, Open source contributors.\n",
      "\n",
      "Redistribution and use in source and binary forms, with or without\n",
      "modification, are permitted provided that the following conditions are met:\n",
      "\n",
      "* Redistributions of source code must retain the above copyright notice, this\n",
      "  list of conditions and the following disclaimer.\n",
      "\n",
      "* Redistributions in binary form must reproduce the above copyright notice,\n",
      "  this list of conditions and the following disclaimer in the documentation\n",
      "  and/or other materials provided with the distribution.\n",
      "\n",
      "* Neither the name of the copyright holder nor the names of its\n",
      "  contributors may be used to endorse or promote products derived from\n",
      "  this software without specific prior written permission.\n",
      "\n",
      "THIS SOFTWARE IS PROVIDED BY THE COPYRIGHT HOLDERS AND CONTRIBUTORS \"AS IS\"\n",
      "AND ANY EXPRESS OR IMPLIED WARRANTIES, INCLUDING, BUT NOT LIMITED TO, THE\n",
      "IMPLIED WARRANTIES OF MERCHANTABILITY AND FITNESS FOR A PARTICULAR PURPOSE ARE\n",
      "DISCLAIMED. IN NO EVENT SHALL THE COPYRIGHT HOLDER OR CONTRIBUTORS BE LIABLE\n",
      "FOR ANY DIRECT, INDIRECT, INCIDENTAL, SPECIAL, EXEMPLARY, OR CONSEQUENTIAL\n",
      "DAMAGES (INCLUDING, BUT NOT LIMITED TO, PROCUREMENT OF SUBSTITUTE GOODS OR\n",
      "SERVICES; LOSS OF USE, DATA, OR PROFITS; OR BUSINESS INTERRUPTION) HOWEVER\n",
      "CAUSED AND ON ANY THEORY OF LIABILITY, WHETHER IN CONTRACT, STRICT LIABILITY,\n",
      "OR TORT (INCLUDING NEGLIGENCE OR OTHERWISE) ARISING IN ANY WAY OUT OF THE USE\n",
      "OF THIS SOFTWARE, EVEN IF ADVISED OF THE POSSIBILITY OF SUCH DAMAGE.\n",
      "\n",
      "Location: C:\\Users\\fabian\\AppData\\Local\\Programs\\Python\\Python311\\Lib\\site-packages\n",
      "Requires: numpy, numpy, python-dateutil, pytz, tzdata\n",
      "Required-by: \n"
     ]
    }
   ],
   "source": [
    "!pip show pandas"
   ]
  },
  {
   "cell_type": "code",
   "execution_count": 33,
   "metadata": {},
   "outputs": [
    {
     "name": "stdout",
     "output_type": "stream",
     "text": [
      "Name: numpy\n",
      "Version: 1.25.2\n",
      "Summary: Fundamental package for array computing in Python\n",
      "Home-page: https://www.numpy.org\n",
      "Author: Travis E. Oliphant et al.\n",
      "Author-email: \n",
      "License: BSD-3-Clause\n",
      "Location: C:\\Users\\fabian\\AppData\\Local\\Programs\\Python\\Python311\\Lib\\site-packages\n",
      "Requires: \n",
      "Required-by: pandas\n"
     ]
    }
   ],
   "source": [
    "!pip show numpy"
   ]
  },
  {
   "cell_type": "markdown",
   "metadata": {},
   "source": [
    "Creamos una carpeta como ejemplo"
   ]
  },
  {
   "cell_type": "code",
   "execution_count": 34,
   "metadata": {},
   "outputs": [],
   "source": [
    "!mkdir test_folder"
   ]
  },
  {
   "cell_type": "markdown",
   "metadata": {},
   "source": [
    "Eliminamos esa carpeta"
   ]
  },
  {
   "cell_type": "code",
   "execution_count": 35,
   "metadata": {},
   "outputs": [],
   "source": [
    "!rmdir test_folder"
   ]
  }
 ],
 "metadata": {
  "kernelspec": {
   "display_name": "Python 3",
   "language": "python",
   "name": "python3"
  },
  "language_info": {
   "codemirror_mode": {
    "name": "ipython",
    "version": 3
   },
   "file_extension": ".py",
   "mimetype": "text/x-python",
   "name": "python",
   "nbconvert_exporter": "python",
   "pygments_lexer": "ipython3",
   "version": "3.11.4"
  },
  "orig_nbformat": 4
 },
 "nbformat": 4,
 "nbformat_minor": 2
}
