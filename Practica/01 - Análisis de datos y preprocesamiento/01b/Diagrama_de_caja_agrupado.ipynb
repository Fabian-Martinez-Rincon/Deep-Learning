{
 "cells": [
  {
   "cell_type": "markdown",
   "id": "70cfae07",
   "metadata": {},
   "source": [
    "Importamos las librerías y abrimos el archivo"
   ]
  },
  {
   "cell_type": "code",
   "execution_count": 8,
   "id": "c6130439",
   "metadata": {},
   "outputs": [],
   "source": [
    "import pandas as pd\n",
    "import numpy as np\n",
    "import matplotlib.pyplot as plt\n",
    "\n",
    "import os\n",
    "os.chdir('../Datos/')\n",
    "# datos = pd.read_csv('Drug5.csv')\n",
    "df = pd.read_csv('Drug5_atipicos.csv')"
   ]
  },
  {
   "cell_type": "markdown",
   "id": "2ab06e51",
   "metadata": {},
   "source": [
    "Diagramas de Caja del atributo AGE agrupado por CHOLESTEROL"
   ]
  },
  {
   "cell_type": "code",
   "execution_count": 17,
   "id": "cc899485",
   "metadata": {},
   "outputs": [
    {
     "data": {
      "text/plain": [
       "<AxesSubplot:title={'center':'Age'}, xlabel='Cholesterol'>"
      ]
     },
     "execution_count": 17,
     "metadata": {},
     "output_type": "execute_result"
    },
    {
     "data": {
      "image/png": "[encoded data removed]",
      "text/plain": [
       "<Figure size 432x288 with 1 Axes>"
      ]
     },
     "metadata": {
      "needs_background": "light"
     },
     "output_type": "display_data"
    }
   ],
   "source": [
    "df.boxplot(column=['Age'], by='Cholesterol', vert=False)"
   ]
  },
  {
   "cell_type": "code",
   "execution_count": 11,
   "id": "24280dc1",
   "metadata": {},
   "outputs": [
    {
     "name": "stdout",
     "output_type": "stream",
     "text": [
      "CUARTILES - Edades c/Colesterol NORMAL\n",
      "[32. 42. 57.]\n",
      "CUARTILES - Edades c/Colesterol HIGH\n",
      "[29.5 47.  59. ]\n"
     ]
    }
   ],
   "source": [
    "dfNormal = df.Age[df.Cholesterol=='NORMAL']\n",
    "QNormal = dfNormal.quantile([0.25, 0.5, 0.75]).values\n",
    "print(\"CUARTILES - Edades c/Colesterol NORMAL\")\n",
    "print(QNormal)\n",
    "\n",
    "dfHigh =  df.Age[df.Cholesterol=='HIGH']\n",
    "QHigh = dfHigh.quantile([0.25, 0.5, 0.75]).values\n",
    "print(\"CUARTILES - Edades c/Colesterol HIGH\")\n",
    "print(QHigh)"
   ]
  }
 ],
 "metadata": {
  "kernelspec": {
   "display_name": "Python 3",
   "language": "python",
   "name": "python3"
  },
  "language_info": {
   "codemirror_mode": {
    "name": "ipython",
    "version": 3
   },
   "file_extension": ".py",
   "mimetype": "text/x-python",
   "name": "python",
   "nbconvert_exporter": "python",
   "pygments_lexer": "ipython3",
   "version": "3.8.8"
  }
 },
 "nbformat": 4,
 "nbformat_minor": 5
}
