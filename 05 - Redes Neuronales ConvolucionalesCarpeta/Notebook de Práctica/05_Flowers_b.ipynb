{
 "cells": [
  {
   "cell_type": "markdown",
   "metadata": {
    "id": "imz8cowUxp9q"
   },
   "source": [
    "# Generación de un modelo con capas de normalización por lotes\n",
    "---\n",
    "**Configuración General del Entorno de Trabajo**\n",
    "\n",
    "Esta sección detecta si el notebook está corriendo en un entorno COLAB o en uno LOCAL . Monta la carpeta de Google Drive si corresponde y define constantes para trabajar de forma general con cualquir script. Modificar las definiciones de las carpetas según el entorno y configuración del mismo."
   ]
  },
  {
   "cell_type": "code",
   "execution_count": 42,
   "metadata": {
    "colab": {
     "base_uri": "https://localhost:8080/"
    },
    "executionInfo": {
     "elapsed": 25038,
     "status": "ok",
     "timestamp": 1670787876834,
     "user": {
      "displayName": "Cesar Estrebou",
      "userId": "12510511812709829812"
     },
     "user_tz": 180
    },
    "id": "mralyUB8ta8A",
    "outputId": "ab4963dc-b768-43e2-c5d2-9edea3ed6356"
   },
   "outputs": [],
   "source": [
    "ColabNotebook = 'google.colab' in str(get_ipython())\n",
    "\n",
    "if ColabNotebook:     \n",
    "    # configuración para notebook en COLAB\n",
    "    DRIVE_DIR = '/content/drive/MyDrive/' # carpeta G-Drive\n",
    "    MNT_DRIVE_DIR = '/content/drive/'     # carpeta donde montar G-Drive\n",
    "    # carpeta donde se encuentran archivos .py auxiliares\n",
    "    FUENTES_DIR = '/content/drive/MyDrive/Colab Notebooks/Fuentes' \n",
    "    DATOS_DIR = DRIVE_DIR + 'Datos/'      # carpeta donde se encuentran los datasets\n",
    "\n",
    "    # monta G-drive en entorno COLAB\n",
    "    from google.colab import drive\n",
    "    drive.mount(MNT_DRIVE_DIR)\n",
    "else:\n",
    "    # configuración para notebook con instalación LOCAL\n",
    "    \n",
    "    \n",
    "    FUENTES_DIR = './RN2022/Fuentes'         # carpeta donde se encuentran archivos .py auxiliares\n",
    "    DATOS_DIR = 'D:/Internet/G-Drive/Datos/' # carpeta donde se encuentran los datasets\n",
    "\n",
    "# agrega ruta de busqueda donde tenemos archivos .py\n",
    "import sys\n",
    "sys.path.append(FUENTES_DIR)"
   ]
  },
  {
   "cell_type": "markdown",
   "metadata": {
    "id": "xmXJbVXquxJZ"
   },
   "source": [
    "---\n",
    "**Preparación de Dataset**\n",
    "\n",
    "Para poder trabajar con el dataset se debe:\n",
    "1. Copiar los archivos FlowersX16.7z.001 y FlowersX16.7z.002 en la carpeta drive de los datos (establecida para este script en DATOS_DIR).\n",
    "2. Ubicar el directorio actual en la misma carpeta\n",
    "3. Descomprimir con 7zip los archivos"
   ]
  },
  {
   "cell_type": "code",
   "execution_count": 43,
   "metadata": {
    "executionInfo": {
     "elapsed": 5,
     "status": "ok",
     "timestamp": 1670787876835,
     "user": {
      "displayName": "Cesar Estrebou",
      "userId": "12510511812709829812"
     },
     "user_tz": 180
    },
    "id": "KpbdylpZpB3f"
   },
   "outputs": [],
   "source": [
    "# Los archivos FlowersX16.7z.001 y FlowersX16.7z.002 deben estar en la carpeta\n",
    "# para descomprimir las imagenes con el compresor 7zip\n",
    "# !7z x \"/content/drive/MyDrive/Datos/FlowersX16.7z.001\" -o\"/content/drive/MyDrive/Datos/\""
   ]
  },
  {
   "cell_type": "markdown",
   "metadata": {
    "id": "5k3LTtQaXt4Z"
   },
   "source": [
    "**Preparación de Datos**"
   ]
  },
  {
   "cell_type": "code",
   "execution_count": 44,
   "metadata": {
    "colab": {
     "base_uri": "https://localhost:8080/"
    },
    "executionInfo": {
     "elapsed": 29225,
     "status": "ok",
     "timestamp": 1670787906056,
     "user": {
      "displayName": "Cesar Estrebou",
      "userId": "12510511812709829812"
     },
     "user_tz": 180
    },
    "id": "QrBvoS3mXlZs",
    "outputId": "29e81322-82b3-4401-890d-c904c1260fcf"
   },
   "outputs": [
    {
     "name": "stdout",
     "output_type": "stream",
     "text": [
      "Found 12599 images belonging to 16 classes.\n",
      "Found 3141 images belonging to 16 classes.\n"
     ]
    }
   ],
   "source": [
    "from tensorflow.keras.models import Sequential\n",
    "from tensorflow.keras.layers import Conv2D, MaxPooling2D, Dense, Flatten, BatchNormalization\n",
    "from tensorflow.keras.preprocessing.image import ImageDataGenerator\n",
    "from tensorflow.keras.callbacks import EarlyStopping\n",
    "import matplotlib.pyplot as plt\n",
    "from ClassEpochTiming import EpochTiming\n",
    "\n",
    "\n",
    "# constantes para arquitectura, generación datos y entrenamiento/validacion\n",
    "IMG_SIZE = (96, 96, 3)  # tamaño de la imagen de entrada\n",
    "N_CLASSES = 16          # cantidad de clases a identificar\n",
    "LOTES = 128             # tamaño de lotes para entrenamiento y testeo \n",
    "ALFA = 0.01             # tasa de entrenamiento\n",
    "EPOCAS = 1000           # cantidad de epocas a entrenar como máximo\n",
    "PACIENCIA = 10          # parámetro para parada temprana\n",
    "SEP_TRAIN_TEST = 0.2    # división en entrenamiento y validación \n",
    "\n",
    "\n",
    "IMAGES_DIR = DATOS_DIR + 'FlowersX16'\n",
    "\n",
    "# construye un generador de imagenes para dividir en entrenamiento y validación\n",
    "data_generator = ImageDataGenerator(\n",
    "    validation_split=SEP_TRAIN_TEST,\n",
    "    rescale= 1.0/255,\n",
    "    zoom_range=0.15,  # (0.8,1.0),         # zoom\n",
    "    width_shift_range=0.2,   # desplazamiento horizontal\n",
    "    height_shift_range=0.2,  # desplazamiento vertical\n",
    "    horizontal_flip=True,   # espejo horizontal\n",
    "    brightness_range=(0.8, 1.2) # brillo\n",
    ")\n",
    "\n",
    "# generador para entrenamiento a partir de la carpeta indicada en IMAGES_DIR\n",
    "train_iter = data_generator.flow_from_directory(\n",
    "            target_size=(IMG_SIZE[0],IMG_SIZE[1]),\n",
    "            directory=IMAGES_DIR, \n",
    "            class_mode='categorical',\n",
    "            batch_size=LOTES,\n",
    "            subset='training'   # asigna subconjunto segun validation_split del ImageDataGenerator\n",
    "            )\n",
    "\n",
    "valid_iter = data_generator.flow_from_directory(\n",
    "            target_size=(IMG_SIZE[0],IMG_SIZE[1]),\n",
    "            directory=IMAGES_DIR, \n",
    "            class_mode='categorical',\n",
    "            batch_size=LOTES,\n",
    "            subset='validation' # asigna subconjunto segun validation_split del ImageDataGenerator\n",
    "            )"
   ]
  },
  {
   "cell_type": "markdown",
   "metadata": {
    "id": "0Ly9K2UTJD6N"
   },
   "source": [
    "**Construcción del Modelo**"
   ]
  },
  {
   "cell_type": "code",
   "execution_count": 45,
   "metadata": {
    "colab": {
     "base_uri": "https://localhost:8080/"
    },
    "executionInfo": {
     "elapsed": 3253,
     "status": "ok",
     "timestamp": 1670787909306,
     "user": {
      "displayName": "Cesar Estrebou",
      "userId": "12510511812709829812"
     },
     "user_tz": 180
    },
    "id": "m9JbofDpsG3j",
    "outputId": "44bffb63-8a21-4bd6-ba54-a69b99d9e7ea"
   },
   "outputs": [
    {
     "name": "stdout",
     "output_type": "stream",
     "text": [
      "Model: \"sequential_6\"\n",
      "_________________________________________________________________\n",
      "Layer (type)                 Output Shape              Param #   \n",
      "=================================================================\n",
      "conv2d_29 (Conv2D)           (None, 94, 94, 8)         224       \n",
      "_________________________________________________________________\n",
      "max_pooling2d_29 (MaxPooling (None, 47, 47, 8)         0         \n",
      "_________________________________________________________________\n",
      "conv2d_30 (Conv2D)           (None, 45, 45, 16)        1168      \n",
      "_________________________________________________________________\n",
      "max_pooling2d_30 (MaxPooling (None, 22, 22, 16)        0         \n",
      "_________________________________________________________________\n",
      "conv2d_31 (Conv2D)           (None, 20, 20, 32)        4640      \n",
      "_________________________________________________________________\n",
      "max_pooling2d_31 (MaxPooling (None, 10, 10, 32)        0         \n",
      "_________________________________________________________________\n",
      "conv2d_32 (Conv2D)           (None, 8, 8, 64)          18496     \n",
      "_________________________________________________________________\n",
      "max_pooling2d_32 (MaxPooling (None, 4, 4, 64)          0         \n",
      "_________________________________________________________________\n",
      "conv2d_33 (Conv2D)           (None, 2, 2, 128)         73856     \n",
      "_________________________________________________________________\n",
      "max_pooling2d_33 (MaxPooling (None, 1, 1, 128)         0         \n",
      "_________________________________________________________________\n",
      "flatten_6 (Flatten)          (None, 128)               0         \n",
      "_________________________________________________________________\n",
      "dense_14 (Dense)             (None, 100)               12900     \n",
      "_________________________________________________________________\n",
      "batch_normalization_17 (Batc (None, 100)               400       \n",
      "_________________________________________________________________\n",
      "dense_15 (Dense)             (None, 100)               10100     \n",
      "_________________________________________________________________\n",
      "batch_normalization_18 (Batc (None, 100)               400       \n",
      "_________________________________________________________________\n",
      "dense_16 (Dense)             (None, 16)                1616      \n",
      "=================================================================\n",
      "Total params: 123,800\n",
      "Trainable params: 123,400\n",
      "Non-trainable params: 400\n",
      "_________________________________________________________________\n"
     ]
    }
   ],
   "source": [
    "ACTIVATION = 'LeakyReLU'\n",
    "\n",
    "# %% construye le modelo\n",
    "def build_model(img_size, classes):\n",
    "\n",
    "    model = Sequential()\n",
    "\n",
    "    model.add(Conv2D(8, kernel_size=(3,3), strides=(1,1), activation=ACTIVATION, input_shape=img_size)) \n",
    "    model.add(MaxPooling2D(pool_size=(2,2)))  \n",
    "    #model.add(BatchNormalization())\n",
    "    model.add(Conv2D(16, kernel_size=(3,3), strides=(1,1), activation=ACTIVATION)) \n",
    "    model.add(MaxPooling2D(pool_size=(2,2)))    \n",
    "    #model.add(BatchNormalization())\n",
    "    model.add(Conv2D(32, kernel_size=(3,3), strides=(1,1), activation=ACTIVATION)) \n",
    "    model.add(MaxPooling2D(pool_size=(2,2)))    \n",
    "    model.add(Conv2D(64, kernel_size=(3,3), strides=(1,1), activation=ACTIVATION)) \n",
    "    model.add(MaxPooling2D(pool_size=(2,2)))    \n",
    "    model.add(Conv2D(128, kernel_size=(3,3), strides=(1,1), activation=ACTIVATION)) \n",
    "    model.add(MaxPooling2D(pool_size=(2,2)))    \n",
    "    #model.add(BatchNormalization())\n",
    "    model.add(Flatten())\n",
    "    model.add(Dense(100, activation = 'LeakyReLU'))\n",
    "    model.add(BatchNormalization())\n",
    "    model.add(Dense(100, activation = 'LeakyReLU'))\n",
    "    model.add(BatchNormalization())\n",
    "    model.add(Dense(classes, activation = 'softmax'))\n",
    "\n",
    "    model.summary()\n",
    "    return model\n",
    "\n",
    "\n",
    "# %% construye le modelo\n",
    "# obtiene la arquitectura para el modelo y lo compila\n",
    "model = build_model(IMG_SIZE, N_CLASSES)\n",
    "model.compile('adam', loss = 'categorical_crossentropy', metrics = ['accuracy'])\n",
    "#model.compile('RMSProp', loss = 'categorical_crossentropy', metrics = ['accuracy'])\n",
    "\n"
   ]
  },
  {
   "cell_type": "code",
   "execution_count": 46,
   "metadata": {
    "colab": {
     "background_save": true,
     "base_uri": "https://localhost:8080/"
    },
    "id": "9IyXgy1QX_Am",
    "outputId": "0d22b0f9-f8b3-4785-ce1d-85cd39cd1f17",
    "scrolled": false
   },
   "outputs": [
    {
     "name": "stdout",
     "output_type": "stream",
     "text": [
      "Epoch 1/1000\n",
      "99/99 [==============================] - 59s 581ms/step - loss: 1.9247 - accuracy: 0.3491 - val_loss: 2.6136 - val_accuracy: 0.1328\n",
      "Epoch 2/1000\n",
      "99/99 [==============================] - 43s 439ms/step - loss: 1.5486 - accuracy: 0.4746 - val_loss: 2.3436 - val_accuracy: 0.2090\n",
      "Epoch 3/1000\n",
      "99/99 [==============================] - 46s 463ms/step - loss: 1.3677 - accuracy: 0.5370 - val_loss: 1.9481 - val_accuracy: 0.3955\n",
      "Epoch 4/1000\n",
      "99/99 [==============================] - 52s 523ms/step - loss: 1.2567 - accuracy: 0.5772 - val_loss: 1.6311 - val_accuracy: 0.5049\n",
      "Epoch 5/1000\n",
      "99/99 [==============================] - 53s 535ms/step - loss: 1.1767 - accuracy: 0.6055 - val_loss: 1.5173 - val_accuracy: 0.4658\n",
      "Epoch 6/1000\n",
      "99/99 [==============================] - 53s 531ms/step - loss: 1.1213 - accuracy: 0.6193 - val_loss: 1.4046 - val_accuracy: 0.5410\n",
      "Epoch 7/1000\n",
      "99/99 [==============================] - 59s 598ms/step - loss: 1.0708 - accuracy: 0.6397 - val_loss: 1.3819 - val_accuracy: 0.5498\n",
      "Epoch 8/1000\n",
      "99/99 [==============================] - 64s 651ms/step - loss: 1.0164 - accuracy: 0.6583 - val_loss: 1.1360 - val_accuracy: 0.6299\n",
      "Epoch 9/1000\n",
      "99/99 [==============================] - 55s 554ms/step - loss: 0.9859 - accuracy: 0.6689 - val_loss: 1.2818 - val_accuracy: 0.6055\n",
      "Epoch 10/1000\n",
      "99/99 [==============================] - 55s 560ms/step - loss: 0.9405 - accuracy: 0.6854 - val_loss: 1.2056 - val_accuracy: 0.6064\n",
      "Epoch 11/1000\n",
      "99/99 [==============================] - 55s 551ms/step - loss: 0.9095 - accuracy: 0.6969 - val_loss: 1.3896 - val_accuracy: 0.5791\n",
      "Epoch 12/1000\n",
      "99/99 [==============================] - 59s 596ms/step - loss: 0.9011 - accuracy: 0.7001 - val_loss: 1.1640 - val_accuracy: 0.6348\n",
      "Epoch 13/1000\n",
      "99/99 [==============================] - 57s 575ms/step - loss: 0.8631 - accuracy: 0.7088 - val_loss: 1.1251 - val_accuracy: 0.6484\n",
      "Epoch 14/1000\n",
      "99/99 [==============================] - 56s 569ms/step - loss: 0.8566 - accuracy: 0.7101 - val_loss: 1.2318 - val_accuracy: 0.5898\n",
      "Epoch 15/1000\n",
      "99/99 [==============================] - 55s 558ms/step - loss: 0.8282 - accuracy: 0.7256 - val_loss: 0.9594 - val_accuracy: 0.6660\n",
      "Epoch 16/1000\n",
      "99/99 [==============================] - 57s 574ms/step - loss: 0.8029 - accuracy: 0.7248 - val_loss: 0.9401 - val_accuracy: 0.6895\n",
      "Epoch 17/1000\n",
      "99/99 [==============================] - 56s 570ms/step - loss: 0.7959 - accuracy: 0.7331 - val_loss: 0.9617 - val_accuracy: 0.6738\n",
      "Epoch 18/1000\n",
      "99/99 [==============================] - 56s 564ms/step - loss: 0.7621 - accuracy: 0.7459 - val_loss: 0.9539 - val_accuracy: 0.6670\n",
      "Epoch 19/1000\n",
      "99/99 [==============================] - 55s 557ms/step - loss: 0.7548 - accuracy: 0.7448 - val_loss: 0.9492 - val_accuracy: 0.6992\n",
      "Epoch 20/1000\n",
      "99/99 [==============================] - 61s 614ms/step - loss: 0.7406 - accuracy: 0.7493 - val_loss: 0.8679 - val_accuracy: 0.6963\n",
      "Epoch 21/1000\n",
      "99/99 [==============================] - 60s 602ms/step - loss: 0.7132 - accuracy: 0.7592 - val_loss: 0.9288 - val_accuracy: 0.6885\n",
      "Epoch 22/1000\n",
      "99/99 [==============================] - 56s 564ms/step - loss: 0.7205 - accuracy: 0.7629 - val_loss: 0.9784 - val_accuracy: 0.6914\n",
      "Epoch 23/1000\n",
      "99/99 [==============================] - 55s 556ms/step - loss: 0.7099 - accuracy: 0.7611 - val_loss: 1.2123 - val_accuracy: 0.6338\n",
      "Epoch 24/1000\n",
      "99/99 [==============================] - 63s 634ms/step - loss: 0.6990 - accuracy: 0.7655 - val_loss: 0.9327 - val_accuracy: 0.7070\n",
      "Epoch 25/1000\n",
      "99/99 [==============================] - 56s 568ms/step - loss: 0.6836 - accuracy: 0.7726 - val_loss: 1.0361 - val_accuracy: 0.6699\n",
      "Epoch 26/1000\n",
      "99/99 [==============================] - 56s 571ms/step - loss: 0.6696 - accuracy: 0.7777 - val_loss: 0.8349 - val_accuracy: 0.7295\n",
      "Epoch 27/1000\n",
      "99/99 [==============================] - 56s 570ms/step - loss: 0.6788 - accuracy: 0.7701 - val_loss: 0.9641 - val_accuracy: 0.6875\n",
      "Epoch 28/1000\n",
      "99/99 [==============================] - 57s 575ms/step - loss: 0.6499 - accuracy: 0.7805 - val_loss: 0.8541 - val_accuracy: 0.7109\n",
      "Epoch 29/1000\n",
      "99/99 [==============================] - 56s 567ms/step - loss: 0.6685 - accuracy: 0.7758 - val_loss: 0.7792 - val_accuracy: 0.7305\n",
      "Epoch 30/1000\n",
      "99/99 [==============================] - 56s 570ms/step - loss: 0.6514 - accuracy: 0.7783 - val_loss: 0.9858 - val_accuracy: 0.7012\n",
      "Epoch 31/1000\n",
      "99/99 [==============================] - 56s 572ms/step - loss: 0.6318 - accuracy: 0.7861 - val_loss: 0.8684 - val_accuracy: 0.7236\n",
      "Epoch 32/1000\n",
      "99/99 [==============================] - 56s 564ms/step - loss: 0.6300 - accuracy: 0.7887 - val_loss: 0.7621 - val_accuracy: 0.7695\n",
      "Epoch 33/1000\n",
      "99/99 [==============================] - 56s 559ms/step - loss: 0.6181 - accuracy: 0.7912 - val_loss: 0.8369 - val_accuracy: 0.7305\n",
      "Epoch 34/1000\n",
      "99/99 [==============================] - 56s 561ms/step - loss: 0.6170 - accuracy: 0.7927 - val_loss: 0.8708 - val_accuracy: 0.7334\n",
      "Epoch 35/1000\n",
      "99/99 [==============================] - 56s 563ms/step - loss: 0.6101 - accuracy: 0.7939 - val_loss: 0.7910 - val_accuracy: 0.7383\n",
      "Epoch 36/1000\n",
      "99/99 [==============================] - 56s 569ms/step - loss: 0.5914 - accuracy: 0.8012 - val_loss: 0.8015 - val_accuracy: 0.7490\n",
      "Epoch 37/1000\n",
      "99/99 [==============================] - 56s 566ms/step - loss: 0.5892 - accuracy: 0.8013 - val_loss: 0.8102 - val_accuracy: 0.7471\n",
      "Epoch 38/1000\n",
      "99/99 [==============================] - 56s 570ms/step - loss: 0.5755 - accuracy: 0.8072 - val_loss: 0.9697 - val_accuracy: 0.6895\n",
      "Epoch 39/1000\n",
      "99/99 [==============================] - 56s 566ms/step - loss: 0.5802 - accuracy: 0.8051 - val_loss: 0.8230 - val_accuracy: 0.7480\n",
      "Epoch 40/1000\n",
      "99/99 [==============================] - 55s 560ms/step - loss: 0.5848 - accuracy: 0.8076 - val_loss: 0.8107 - val_accuracy: 0.7451\n",
      "Epoch 41/1000\n",
      "99/99 [==============================] - 56s 560ms/step - loss: 0.5636 - accuracy: 0.8084 - val_loss: 0.7190 - val_accuracy: 0.7754\n",
      "Epoch 42/1000\n",
      "99/99 [==============================] - 56s 563ms/step - loss: 0.5699 - accuracy: 0.8065 - val_loss: 0.8271 - val_accuracy: 0.7354\n",
      "Epoch 43/1000\n",
      "99/99 [==============================] - 56s 559ms/step - loss: 0.5513 - accuracy: 0.8087 - val_loss: 0.7590 - val_accuracy: 0.7607\n",
      "Epoch 44/1000\n",
      "99/99 [==============================] - 57s 573ms/step - loss: 0.5558 - accuracy: 0.8143 - val_loss: 1.0173 - val_accuracy: 0.7139\n",
      "Epoch 45/1000\n",
      "99/99 [==============================] - 57s 570ms/step - loss: 0.5472 - accuracy: 0.8143 - val_loss: 0.8073 - val_accuracy: 0.7656\n",
      "Epoch 46/1000\n",
      "99/99 [==============================] - 56s 563ms/step - loss: 0.5533 - accuracy: 0.8105 - val_loss: 0.8112 - val_accuracy: 0.7607\n",
      "Epoch 47/1000\n",
      "99/99 [==============================] - 56s 566ms/step - loss: 0.5318 - accuracy: 0.8163 - val_loss: 0.7633 - val_accuracy: 0.7354\n",
      "Epoch 48/1000\n",
      "99/99 [==============================] - 56s 566ms/step - loss: 0.5413 - accuracy: 0.8172 - val_loss: 0.7956 - val_accuracy: 0.7500\n",
      "Epoch 49/1000\n",
      "99/99 [==============================] - 56s 564ms/step - loss: 0.5270 - accuracy: 0.8208 - val_loss: 0.7574 - val_accuracy: 0.7490\n",
      "Epoch 50/1000\n",
      "99/99 [==============================] - 55s 555ms/step - loss: 0.5216 - accuracy: 0.8233 - val_loss: 0.8420 - val_accuracy: 0.7461\n",
      "Epoch 51/1000\n",
      "99/99 [==============================] - 56s 558ms/step - loss: 0.5225 - accuracy: 0.8220 - val_loss: 0.7958 - val_accuracy: 0.7510\n"
     ]
    },
    {
     "data": {
      "text/plain": [
       "[<matplotlib.lines.Line2D at 0x210678a3688>]"
      ]
     },
     "execution_count": 46,
     "metadata": {},
     "output_type": "execute_result"
    },
    {
     "data": {
      "image/png": "[encoded data removed]",
      "text/plain": [
       "<Figure size 2000x600 with 2 Axes>"
      ]
     },
     "metadata": {},
     "output_type": "display_data"
    },
    {
     "data": {
      "text/plain": [
       "<Figure size 640x480 with 0 Axes>"
      ]
     },
     "metadata": {},
     "output_type": "display_data"
    }
   ],
   "source": [
    "# %% Entrenamiento del modelo \n",
    "\n",
    "# Callback para parada temprana\n",
    "early_stop = EarlyStopping(monitor='val_loss', \n",
    "                           patience=PACIENCIA,  \n",
    "                           restore_best_weights=True)\n",
    "\n",
    "epoch_timing = EpochTiming()\n",
    "\n",
    "H = model.fit(\n",
    "    train_iter,\n",
    "    validation_data=valid_iter,\n",
    "    validation_steps= 8,\n",
    "    epochs=EPOCAS,\n",
    "    callbacks=[early_stop, epoch_timing])\n",
    "\n",
    "# dibuja accuracy del progreso del entrenamiento\n",
    "fig, axs = plt.subplots(1,2, figsize=(20,6))\n",
    "plt.figure()\n",
    "axs[0].plot(H.history[\"loss\"], label=\"train_loss\")\n",
    "axs[0].plot(H.history[\"val_loss\"], label=\"val_loss\")\n",
    "\n",
    "axs[1].plot(H.history[\"accuracy\"], label=\"train_acc\")\n",
    "axs[1].plot(H.history[\"val_accuracy\"], label=\"val_acc\")"
   ]
  },
  {
   "cell_type": "code",
   "execution_count": 47,
   "metadata": {},
   "outputs": [
    {
     "name": "stdout",
     "output_type": "stream",
     "text": [
      "99/99 [==============================] - 51s 517ms/step - loss: 0.5674 - accuracy: 0.8095\n",
      "25/25 [==============================] - 14s 551ms/step - loss: 0.7465 - accuracy: 0.7644\n"
     ]
    },
    {
     "data": {
      "text/plain": [
       "[0.7464852333068848, 0.7644062638282776]"
      ]
     },
     "execution_count": 47,
     "metadata": {},
     "output_type": "execute_result"
    }
   ],
   "source": [
    "#print('Tiempo promedio por época %.2f segundos' % epoch_timing.avg_epoch_time)\n",
    "model.evaluate(train_iter)\n",
    "model.evaluate(valid_iter)"
   ]
  },
  {
   "cell_type": "code",
   "execution_count": null,
   "metadata": {},
   "outputs": [],
   "source": []
  }
 ],
 "metadata": {
  "accelerator": "GPU",
  "colab": {
   "authorship_tag": "ABX9TyOGhO/dcGWWMa+8sUUUvnrE",
   "provenance": []
  },
  "gpuClass": "standard",
  "kernelspec": {
   "display_name": "Python 3 (ipykernel)",
   "language": "python",
   "name": "python3"
  },
  "language_info": {
   "codemirror_mode": {
    "name": "ipython",
    "version": 3
   },
   "file_extension": ".py",
   "mimetype": "text/x-python",
   "name": "python",
   "nbconvert_exporter": "python",
   "pygments_lexer": "ipython3",
   "version": "3.7.15"
  },
  "varInspector": {
   "cols": {
    "lenName": "16",
    "lenType": "16",
    "lenVar": "50"
   },
   "kernels_config": {
    "python": {
     "delete_cmd_postfix": "",
     "delete_cmd_prefix": "del ",
     "library": "var_list.py",
     "varRefreshCmd": "print(var_dic_list())"
    },
    "r": {
     "delete_cmd_postfix": ") ",
     "delete_cmd_prefix": "rm(",
     "library": "var_list.r",
     "varRefreshCmd": "cat(var_dic_list()) "
    }
   },
   "types_to_exclude": [
    "module",
    "function",
    "builtin_function_or_method",
    "instance",
    "_Feature"
   ],
   "window_display": false
  }
 },
 "nbformat": 4,
 "nbformat_minor": 1
}
