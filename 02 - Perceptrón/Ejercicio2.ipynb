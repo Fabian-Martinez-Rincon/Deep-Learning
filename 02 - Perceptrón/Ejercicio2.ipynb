{
 "cells": [
  {
   "cell_type": "code",
   "execution_count": 3,
   "metadata": {},
   "outputs": [],
   "source": [
    "import os\n",
    "import pandas as pd\n",
    "from sklearn.preprocessing import StandardScaler\n",
    "import perceptron as p  # Asegúrate de que este módulo esté en el mismo directorio o en tu PYTHONPATH"
   ]
  },
  {
   "cell_type": "code",
   "execution_count": null,
   "metadata": {},
   "outputs": [],
   "source": [
    "def load_and_preprocess_data(file_path):\n",
    "    \"\"\"Carga y preprocesa los datos desde un archivo CSV.\"\"\"\n",
    "    with open(file_path, mode='r', encoding=\"UTF-8\") as file:\n",
    "        df = pd.read_csv(file)\n",
    "    X = df[['Perimetro', 'Area']].values\n",
    "    y = df['Clase'].apply(lambda x: 1 if x == 'Helecho' else 0).values\n",
    "    scaler = StandardScaler()\n",
    "    X_scaled = scaler.fit_transform(X)\n",
    "    return X_scaled, y"
   ]
  },
  {
   "cell_type": "code",
   "execution_count": null,
   "metadata": {},
   "outputs": [],
   "source": [
    "def train_perceptron(X, y):\n",
    "    \"\"\"Entrena un Perceptrón y lo devuelve.\"\"\"\n",
    "    perceptron = p.Perceptron(input_size=2, lr=0.01, epochs=300)\n",
    "    perceptron.fit(X, y)\n",
    "    return perceptron"
   ]
  },
  {
   "cell_type": "code",
   "execution_count": null,
   "metadata": {},
   "outputs": [],
   "source": [
    "\n",
    "def main():\n",
    "    \"\"\"Función principal.\"\"\"\n",
    "    # Configurar rutas de archivos\n",
    "    PATH_BASE = os.path.dirname(os.getcwd())\n",
    "    PATH_SOURCE = os.path.join(PATH_BASE, \"Datos\")\n",
    "    FILE_NAME = 'hojas.csv'\n",
    "    FILE_PATH = os.path.join(PATH_SOURCE, FILE_NAME)\n",
    "\n",
    "    try:\n",
    "        X_scaled, y = load_and_preprocess_data(FILE_PATH)\n",
    "    except FileNotFoundError:\n",
    "        print(f'No existe el archivo {FILE_PATH}')\n",
    "        return\n",
    "    except NotADirectoryError:\n",
    "        print(f'La ruta no es un directorio {PATH_SOURCE}')\n",
    "        return\n",
    "    else:\n",
    "        trained_perceptron = train_perceptron(X_scaled, y)\n",
    "        trained_perceptron.__str__()\n",
    "\n",
    "if __name__ == \"__main__\":\n",
    "    main()"
   ]
  }
 ],
 "metadata": {
  "kernelspec": {
   "display_name": "Python 3",
   "language": "python",
   "name": "python3"
  },
  "language_info": {
   "codemirror_mode": {
    "name": "ipython",
    "version": 3
   },
   "file_extension": ".py",
   "mimetype": "text/x-python",
   "name": "python",
   "nbconvert_exporter": "python",
   "pygments_lexer": "ipython3",
   "version": "3.11.4"
  },
  "orig_nbformat": 4
 },
 "nbformat": 4,
 "nbformat_minor": 2
}
